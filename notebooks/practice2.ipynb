{
 "cells": [
  {
   "cell_type": "code",
   "execution_count": 5,
   "metadata": {},
   "outputs": [],
   "source": [
    "\n",
    "import sqlalchemy as db\n",
    "engine = db.create_engine('sqlite:///db/college.sqlite', echo=True)\n",
    "conn = engine.connect()\n",
    "meta = db.MetaData()\n"
   ]
  },
  {
   "cell_type": "code",
   "execution_count": 6,
   "metadata": {},
   "outputs": [],
   "source": [
    "from sqlalchemy import Table, Column, Integer, String\n",
    "\n",
    "students = Table(\n",
    "   'students', meta, \n",
    "   Column('id', Integer, primary_key = True), \n",
    "   Column('name', String), \n",
    "   Column('lastname', String), \n",
    ")\n",
    "\n",
    "# ins = students.insert()\n",
    "# ins = students.insert().values(name = 'Ravi', lastname = 'Kapoor')\n",
    "# conn = engine.connect()\n",
    "# result = conn.execute(ins)"
   ]
  },
  {
   "cell_type": "code",
   "execution_count": 14,
   "metadata": {},
   "outputs": [
    {
     "ename": "ArgumentError",
     "evalue": "Column expression, FROM clause, or other columns clause element expected, got [<sqlalchemy.sql.selectable.Alias at 0x7f3eaae8daf0; a>]. Did you mean to say select(<sqlalchemy.sql.selectable.Alias at 0x7f3eaae8daf0; a>)?",
     "output_type": "error",
     "traceback": [
      "\u001b[0;31m---------------------------------------------------------------------------\u001b[0m",
      "\u001b[0;31mArgumentError\u001b[0m                             Traceback (most recent call last)",
      "Cell \u001b[0;32mIn[14], line 3\u001b[0m\n\u001b[1;32m      1\u001b[0m \u001b[39mfrom\u001b[39;00m \u001b[39msqlalchemy\u001b[39;00m\u001b[39m.\u001b[39;00m\u001b[39msql\u001b[39;00m \u001b[39mimport\u001b[39;00m alias, select\n\u001b[1;32m      2\u001b[0m st \u001b[39m=\u001b[39m students\u001b[39m.\u001b[39malias(\u001b[39m\"\u001b[39m\u001b[39ma\u001b[39m\u001b[39m\"\u001b[39m)\n\u001b[0;32m----> 3\u001b[0m s \u001b[39m=\u001b[39m select([st])\u001b[39m.\u001b[39mwhere(st\u001b[39m.\u001b[39mc\u001b[39m.\u001b[39mid \u001b[39m>\u001b[39m \u001b[39m2\u001b[39m)\n\u001b[1;32m      4\u001b[0m \u001b[39m# conn.execute(s).fetchall()\u001b[39;00m\n",
      "File \u001b[0;32m/workspace/study/code/repo/practice-orm/venv/lib/python3.8/site-packages/sqlalchemy/sql/_selectable_constructors.py:489\u001b[0m, in \u001b[0;36mselect\u001b[0;34m(*entities, **__kw)\u001b[0m\n\u001b[1;32m    487\u001b[0m \u001b[39mif\u001b[39;00m __kw:\n\u001b[1;32m    488\u001b[0m     \u001b[39mraise\u001b[39;00m _no_kw()\n\u001b[0;32m--> 489\u001b[0m \u001b[39mreturn\u001b[39;00m Select(\u001b[39m*\u001b[39;49mentities)\n",
      "File \u001b[0;32m/workspace/study/code/repo/practice-orm/venv/lib/python3.8/site-packages/sqlalchemy/sql/selectable.py:5130\u001b[0m, in \u001b[0;36mSelect.__init__\u001b[0;34m(self, *entities)\u001b[0m\n\u001b[1;32m   5123\u001b[0m \u001b[39mdef\u001b[39;00m \u001b[39m__init__\u001b[39m(\u001b[39mself\u001b[39m, \u001b[39m*\u001b[39mentities: _ColumnsClauseArgument[Any]):\n\u001b[1;32m   5124\u001b[0m \u001b[39m    \u001b[39m\u001b[39mr\u001b[39m\u001b[39m\"\"\"Construct a new :class:`_expression.Select`.\u001b[39;00m\n\u001b[1;32m   5125\u001b[0m \n\u001b[1;32m   5126\u001b[0m \u001b[39m    The public constructor for :class:`_expression.Select` is the\u001b[39;00m\n\u001b[1;32m   5127\u001b[0m \u001b[39m    :func:`_sql.select` function.\u001b[39;00m\n\u001b[1;32m   5128\u001b[0m \n\u001b[1;32m   5129\u001b[0m \u001b[39m    \"\"\"\u001b[39;00m\n\u001b[0;32m-> 5130\u001b[0m     \u001b[39mself\u001b[39m\u001b[39m.\u001b[39m_raw_columns \u001b[39m=\u001b[39m [\n\u001b[1;32m   5131\u001b[0m         coercions\u001b[39m.\u001b[39mexpect(\n\u001b[1;32m   5132\u001b[0m             roles\u001b[39m.\u001b[39mColumnsClauseRole, ent, apply_propagate_attrs\u001b[39m=\u001b[39m\u001b[39mself\u001b[39m\n\u001b[1;32m   5133\u001b[0m         )\n\u001b[1;32m   5134\u001b[0m         \u001b[39mfor\u001b[39;00m ent \u001b[39min\u001b[39;00m entities\n\u001b[1;32m   5135\u001b[0m     ]\n\u001b[1;32m   5137\u001b[0m     GenerativeSelect\u001b[39m.\u001b[39m\u001b[39m__init__\u001b[39m(\u001b[39mself\u001b[39m)\n",
      "File \u001b[0;32m/workspace/study/code/repo/practice-orm/venv/lib/python3.8/site-packages/sqlalchemy/sql/selectable.py:5131\u001b[0m, in \u001b[0;36m<listcomp>\u001b[0;34m(.0)\u001b[0m\n\u001b[1;32m   5123\u001b[0m \u001b[39mdef\u001b[39;00m \u001b[39m__init__\u001b[39m(\u001b[39mself\u001b[39m, \u001b[39m*\u001b[39mentities: _ColumnsClauseArgument[Any]):\n\u001b[1;32m   5124\u001b[0m \u001b[39m    \u001b[39m\u001b[39mr\u001b[39m\u001b[39m\"\"\"Construct a new :class:`_expression.Select`.\u001b[39;00m\n\u001b[1;32m   5125\u001b[0m \n\u001b[1;32m   5126\u001b[0m \u001b[39m    The public constructor for :class:`_expression.Select` is the\u001b[39;00m\n\u001b[1;32m   5127\u001b[0m \u001b[39m    :func:`_sql.select` function.\u001b[39;00m\n\u001b[1;32m   5128\u001b[0m \n\u001b[1;32m   5129\u001b[0m \u001b[39m    \"\"\"\u001b[39;00m\n\u001b[1;32m   5130\u001b[0m     \u001b[39mself\u001b[39m\u001b[39m.\u001b[39m_raw_columns \u001b[39m=\u001b[39m [\n\u001b[0;32m-> 5131\u001b[0m         coercions\u001b[39m.\u001b[39;49mexpect(\n\u001b[1;32m   5132\u001b[0m             roles\u001b[39m.\u001b[39;49mColumnsClauseRole, ent, apply_propagate_attrs\u001b[39m=\u001b[39;49m\u001b[39mself\u001b[39;49m\n\u001b[1;32m   5133\u001b[0m         )\n\u001b[1;32m   5134\u001b[0m         \u001b[39mfor\u001b[39;00m ent \u001b[39min\u001b[39;00m entities\n\u001b[1;32m   5135\u001b[0m     ]\n\u001b[1;32m   5137\u001b[0m     GenerativeSelect\u001b[39m.\u001b[39m\u001b[39m__init__\u001b[39m(\u001b[39mself\u001b[39m)\n",
      "File \u001b[0;32m/workspace/study/code/repo/practice-orm/venv/lib/python3.8/site-packages/sqlalchemy/sql/coercions.py:413\u001b[0m, in \u001b[0;36mexpect\u001b[0;34m(role, element, apply_propagate_attrs, argname, post_inspect, disable_inspection, **kw)\u001b[0m\n\u001b[1;32m    410\u001b[0m                 impl\u001b[39m.\u001b[39m_raise_for_expected(original_element, argname)\n\u001b[1;32m    412\u001b[0m     \u001b[39mif\u001b[39;00m resolved \u001b[39mis\u001b[39;00m \u001b[39mNone\u001b[39;00m:\n\u001b[0;32m--> 413\u001b[0m         resolved \u001b[39m=\u001b[39m impl\u001b[39m.\u001b[39;49m_literal_coercion(\n\u001b[1;32m    414\u001b[0m             element, argname\u001b[39m=\u001b[39;49margname, \u001b[39m*\u001b[39;49m\u001b[39m*\u001b[39;49mkw\n\u001b[1;32m    415\u001b[0m         )\n\u001b[1;32m    416\u001b[0m \u001b[39melse\u001b[39;00m:\n\u001b[1;32m    417\u001b[0m     resolved \u001b[39m=\u001b[39m element\n",
      "File \u001b[0;32m/workspace/study/code/repo/practice-orm/venv/lib/python3.8/site-packages/sqlalchemy/sql/coercions.py:651\u001b[0m, in \u001b[0;36m_CoerceLiterals._literal_coercion\u001b[0;34m(self, element, argname, **kw)\u001b[0m\n\u001b[1;32m    648\u001b[0m \u001b[39mif\u001b[39;00m \u001b[39mself\u001b[39m\u001b[39m.\u001b[39m_coerce_numerics \u001b[39mand\u001b[39;00m \u001b[39misinstance\u001b[39m(element, (numbers\u001b[39m.\u001b[39mNumber)):\n\u001b[1;32m    649\u001b[0m     \u001b[39mreturn\u001b[39;00m elements\u001b[39m.\u001b[39mColumnClause(\u001b[39mstr\u001b[39m(element), is_literal\u001b[39m=\u001b[39m\u001b[39mTrue\u001b[39;00m)\n\u001b[0;32m--> 651\u001b[0m \u001b[39mself\u001b[39;49m\u001b[39m.\u001b[39;49m_raise_for_expected(element, argname)\n",
      "File \u001b[0;32m/workspace/study/code/repo/practice-orm/venv/lib/python3.8/site-packages/sqlalchemy/sql/coercions.py:1139\u001b[0m, in \u001b[0;36mColumnsClauseImpl._raise_for_expected\u001b[0;34m(self, element, argname, resolved, advice, **kw)\u001b[0m\n\u001b[1;32m   1133\u001b[0m \u001b[39mif\u001b[39;00m \u001b[39mnot\u001b[39;00m advice \u001b[39mand\u001b[39;00m \u001b[39misinstance\u001b[39m(element, \u001b[39mlist\u001b[39m):\n\u001b[1;32m   1134\u001b[0m     advice \u001b[39m=\u001b[39m (\n\u001b[1;32m   1135\u001b[0m         \u001b[39mf\u001b[39m\u001b[39m\"\u001b[39m\u001b[39mDid you mean to say select(\u001b[39m\u001b[39m\"\u001b[39m\n\u001b[1;32m   1136\u001b[0m         \u001b[39mf\u001b[39m\u001b[39m\"\u001b[39m\u001b[39m{\u001b[39;00m\u001b[39m'\u001b[39m\u001b[39m, \u001b[39m\u001b[39m'\u001b[39m\u001b[39m.\u001b[39mjoin(\u001b[39mrepr\u001b[39m(e)\u001b[39m \u001b[39m\u001b[39mfor\u001b[39;00m\u001b[39m \u001b[39me\u001b[39m \u001b[39m\u001b[39min\u001b[39;00m\u001b[39m \u001b[39melement)\u001b[39m}\u001b[39;00m\u001b[39m)?\u001b[39m\u001b[39m\"\u001b[39m\n\u001b[1;32m   1137\u001b[0m     )\n\u001b[0;32m-> 1139\u001b[0m \u001b[39mreturn\u001b[39;00m \u001b[39msuper\u001b[39;49m()\u001b[39m.\u001b[39;49m_raise_for_expected(\n\u001b[1;32m   1140\u001b[0m     element, argname\u001b[39m=\u001b[39;49margname, resolved\u001b[39m=\u001b[39;49mresolved, advice\u001b[39m=\u001b[39;49madvice, \u001b[39m*\u001b[39;49m\u001b[39m*\u001b[39;49mkw\n\u001b[1;32m   1141\u001b[0m )\n",
      "File \u001b[0;32m/workspace/study/code/repo/practice-orm/venv/lib/python3.8/site-packages/sqlalchemy/sql/coercions.py:710\u001b[0m, in \u001b[0;36m_SelectIsNotFrom._raise_for_expected\u001b[0;34m(self, element, argname, resolved, advice, code, err, **kw)\u001b[0m\n\u001b[1;32m    707\u001b[0m \u001b[39melse\u001b[39;00m:\n\u001b[1;32m    708\u001b[0m     code \u001b[39m=\u001b[39m \u001b[39mNone\u001b[39;00m\n\u001b[0;32m--> 710\u001b[0m \u001b[39msuper\u001b[39;49m()\u001b[39m.\u001b[39;49m_raise_for_expected(\n\u001b[1;32m    711\u001b[0m     element,\n\u001b[1;32m    712\u001b[0m     argname\u001b[39m=\u001b[39;49margname,\n\u001b[1;32m    713\u001b[0m     resolved\u001b[39m=\u001b[39;49mresolved,\n\u001b[1;32m    714\u001b[0m     advice\u001b[39m=\u001b[39;49madvice,\n\u001b[1;32m    715\u001b[0m     code\u001b[39m=\u001b[39;49mcode,\n\u001b[1;32m    716\u001b[0m     err\u001b[39m=\u001b[39;49merr,\n\u001b[1;32m    717\u001b[0m     \u001b[39m*\u001b[39;49m\u001b[39m*\u001b[39;49mkw,\n\u001b[1;32m    718\u001b[0m )\n\u001b[1;32m    719\u001b[0m \u001b[39m# never reached\u001b[39;00m\n\u001b[1;32m    720\u001b[0m \u001b[39massert\u001b[39;00m \u001b[39mFalse\u001b[39;00m\n",
      "File \u001b[0;32m/workspace/study/code/repo/practice-orm/venv/lib/python3.8/site-packages/sqlalchemy/sql/coercions.py:535\u001b[0m, in \u001b[0;36mRoleImpl._raise_for_expected\u001b[0;34m(self, element, argname, resolved, advice, code, err, **kw)\u001b[0m\n\u001b[1;32m    532\u001b[0m \u001b[39mif\u001b[39;00m advice:\n\u001b[1;32m    533\u001b[0m     msg \u001b[39m+\u001b[39m\u001b[39m=\u001b[39m \u001b[39m\"\u001b[39m\u001b[39m \u001b[39m\u001b[39m\"\u001b[39m \u001b[39m+\u001b[39m advice\n\u001b[0;32m--> 535\u001b[0m \u001b[39mraise\u001b[39;00m exc\u001b[39m.\u001b[39mArgumentError(msg, code\u001b[39m=\u001b[39mcode) \u001b[39mfrom\u001b[39;00m \u001b[39merr\u001b[39;00m\n",
      "\u001b[0;31mArgumentError\u001b[0m: Column expression, FROM clause, or other columns clause element expected, got [<sqlalchemy.sql.selectable.Alias at 0x7f3eaae8daf0; a>]. Did you mean to say select(<sqlalchemy.sql.selectable.Alias at 0x7f3eaae8daf0; a>)?"
     ]
    }
   ],
   "source": [
    "from sqlalchemy.sql import alias, select\n",
    "st = students.alias(\"a\")\n",
    "s = select([st]).where(st.c.id > 2)\n",
    "# conn.execute(s).fetchall()"
   ]
  },
  {
   "cell_type": "code",
   "execution_count": 13,
   "metadata": {},
   "outputs": [
    {
     "name": "stdout",
     "output_type": "stream",
     "text": [
      "2023-06-19 05:15:17,755 INFO sqlalchemy.engine.Engine UPDATE students SET lastname=? WHERE students.lastname = ?\n",
      "2023-06-19 05:15:17,756 INFO sqlalchemy.engine.Engine [cached since 40.03s ago] ('Kapoor', 'Khanna')\n",
      "2023-06-19 05:15:17,757 INFO sqlalchemy.engine.Engine SELECT students.id, students.name, students.lastname \n",
      "FROM students\n",
      "2023-06-19 05:15:17,757 INFO sqlalchemy.engine.Engine [cached since 40.03s ago] ()\n"
     ]
    },
    {
     "data": {
      "text/plain": [
       "[]"
      ]
     },
     "execution_count": 13,
     "metadata": {},
     "output_type": "execute_result"
    }
   ],
   "source": [
    "stmt=students.update().where(students.c.lastname=='Khanna').values(lastname='Kapoor')\n",
    "conn.execute(stmt)\n",
    "s = students.select()\n",
    "conn.execute(s).fetchall()"
   ]
  },
  {
   "cell_type": "code",
   "execution_count": null,
   "metadata": {},
   "outputs": [],
   "source": []
  }
 ],
 "metadata": {
  "kernelspec": {
   "display_name": "venv",
   "language": "python",
   "name": "python3"
  },
  "language_info": {
   "codemirror_mode": {
    "name": "ipython",
    "version": 3
   },
   "file_extension": ".py",
   "mimetype": "text/x-python",
   "name": "python",
   "nbconvert_exporter": "python",
   "pygments_lexer": "ipython3",
   "version": "3.8.8"
  },
  "orig_nbformat": 4
 },
 "nbformat": 4,
 "nbformat_minor": 2
}
