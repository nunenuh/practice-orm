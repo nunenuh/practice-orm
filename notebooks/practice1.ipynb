{
 "cells": [
  {
   "cell_type": "code",
   "execution_count": 1,
   "metadata": {},
   "outputs": [],
   "source": [
    "import sqlalchemy as db"
   ]
  },
  {
   "cell_type": "code",
   "execution_count": 2,
   "metadata": {},
   "outputs": [],
   "source": [
    "engine = db.create_engine('sqlite:///db/college.sqlite', echo=True)\n",
    "conn = engine.connect()\n",
    "meta = db.MetaData()"
   ]
  },
  {
   "cell_type": "code",
   "execution_count": 3,
   "metadata": {},
   "outputs": [
    {
     "name": "stdout",
     "output_type": "stream",
     "text": [
      "2023-06-19 05:04:45,699 INFO sqlalchemy.engine.Engine BEGIN (implicit)\n",
      "2023-06-19 05:04:45,699 INFO sqlalchemy.engine.Engine INSERT INTO students (name, lastname) VALUES (?, ?)\n",
      "2023-06-19 05:04:45,700 INFO sqlalchemy.engine.Engine [generated in 0.00125s] ('Ravi', 'Kapoor')\n"
     ]
    }
   ],
   "source": [
    "from sqlalchemy import Table, Column, Integer, String\n",
    "\n",
    "students = Table(\n",
    "   'students', meta, \n",
    "   Column('id', Integer, primary_key = True), \n",
    "   Column('name', String), \n",
    "   Column('lastname', String), \n",
    ")\n",
    "\n",
    "ins = students.insert()\n",
    "ins = students.insert().values(name = 'Ravi', lastname = 'Kapoor')\n",
    "conn = engine.connect()\n",
    "result = conn.execute(ins)"
   ]
  },
  {
   "cell_type": "code",
   "execution_count": 4,
   "metadata": {},
   "outputs": [
    {
     "name": "stdout",
     "output_type": "stream",
     "text": [
      "2023-06-19 05:04:51,521 INFO sqlalchemy.engine.Engine INSERT INTO students (name, lastname) VALUES (?, ?)\n",
      "2023-06-19 05:04:51,522 INFO sqlalchemy.engine.Engine [generated in 0.00082s] [('Rajiv', 'Khanna'), ('Komal', 'Bhandari'), ('Abdul', 'Sattar'), ('Priya', 'Rajhans')]\n"
     ]
    },
    {
     "data": {
      "text/plain": [
       "<sqlalchemy.engine.cursor.CursorResult at 0x7fd860370940>"
      ]
     },
     "execution_count": 4,
     "metadata": {},
     "output_type": "execute_result"
    }
   ],
   "source": [
    "conn.execute(students.insert(), [\n",
    "   {'name':'Rajiv', 'lastname' : 'Khanna'},\n",
    "   {'name':'Komal','lastname' : 'Bhandari'},\n",
    "   {'name':'Abdul','lastname' : 'Sattar'},\n",
    "   {'name':'Priya','lastname' : 'Rajhans'},\n",
    "])"
   ]
  },
  {
   "cell_type": "code",
   "execution_count": 5,
   "metadata": {},
   "outputs": [
    {
     "name": "stdout",
     "output_type": "stream",
     "text": [
      "2023-06-19 05:04:53,373 INFO sqlalchemy.engine.Engine SELECT students.id, students.name, students.lastname \n",
      "FROM students\n",
      "2023-06-19 05:04:53,374 INFO sqlalchemy.engine.Engine [generated in 0.00159s] ()\n",
      "(1, 'Ravi', 'Kapoor')\n",
      "(2, 'Rajiv', 'Khanna')\n",
      "(3, 'Komal', 'Bhandari')\n",
      "(4, 'Abdul', 'Sattar')\n",
      "(5, 'Priya', 'Rajhans')\n"
     ]
    }
   ],
   "source": [
    "s = students.select()\n",
    "result = conn.execute(s)\n",
    "\n",
    "for row in result:\n",
    "   print(row)"
   ]
  },
  {
   "cell_type": "code",
   "execution_count": 6,
   "metadata": {},
   "outputs": [
    {
     "name": "stdout",
     "output_type": "stream",
     "text": [
      "2023-06-19 05:05:16,174 INFO sqlalchemy.engine.Engine SELECT students.id, students.name, students.lastname \n",
      "FROM students \n",
      "WHERE students.id > ?\n",
      "2023-06-19 05:05:16,175 INFO sqlalchemy.engine.Engine [generated in 0.00091s] (2,)\n",
      "(3, 'Komal', 'Bhandari')\n",
      "(4, 'Abdul', 'Sattar')\n",
      "(5, 'Priya', 'Rajhans')\n"
     ]
    }
   ],
   "source": [
    "s = students.select().where(students.c.id>2)\n",
    "result = conn.execute(s)\n",
    "\n",
    "for row in result:\n",
    "   print (row)"
   ]
  },
  {
   "cell_type": "code",
   "execution_count": 15,
   "metadata": {},
   "outputs": [
    {
     "name": "stdout",
     "output_type": "stream",
     "text": [
      "2023-06-19 05:07:08,027 INFO sqlalchemy.engine.Engine SELECT students.id, students.name, students.lastname \n",
      "FROM students\n",
      "2023-06-19 05:07:08,028 INFO sqlalchemy.engine.Engine [cached since 134.7s ago] ()\n",
      "(2, 'Rajiv', 'Khanna')\n",
      "(3, 'Komal', 'Bhandari')\n",
      "(4, 'Abdul', 'Sattar')\n",
      "(5, 'Priya', 'Rajhans')\n"
     ]
    }
   ],
   "source": [
    "s = students.select()\n",
    "result = conn.execute(s)\n",
    "row = result.fetchone()\n",
    "for row in result:\n",
    "   print(row)"
   ]
  },
  {
   "cell_type": "code",
   "execution_count": 18,
   "metadata": {},
   "outputs": [],
   "source": [
    "# from sqlalchemy.sql import select\n",
    "# s = select([students])\n",
    "# result = conn.execute(s)"
   ]
  },
  {
   "cell_type": "code",
   "execution_count": 22,
   "metadata": {},
   "outputs": [
    {
     "name": "stdout",
     "output_type": "stream",
     "text": [
      "2023-06-19 05:08:47,308 INFO sqlalchemy.engine.Engine SELECT * FROM students\n",
      "2023-06-19 05:08:47,308 INFO sqlalchemy.engine.Engine [cached since 46.03s ago] ()\n"
     ]
    }
   ],
   "source": [
    "from sqlalchemy import text\n",
    "t = text(\"SELECT * FROM students\")\n",
    "result = conn.execute(t)"
   ]
  },
  {
   "cell_type": "code",
   "execution_count": 23,
   "metadata": {},
   "outputs": [
    {
     "ename": "TypeError",
     "evalue": "execute() got an unexpected keyword argument 'x'",
     "output_type": "error",
     "traceback": [
      "\u001b[0;31m---------------------------------------------------------------------------\u001b[0m",
      "\u001b[0;31mTypeError\u001b[0m                                 Traceback (most recent call last)",
      "Cell \u001b[0;32mIn[23], line 3\u001b[0m\n\u001b[1;32m      1\u001b[0m \u001b[39mfrom\u001b[39;00m \u001b[39msqlalchemy\u001b[39;00m\u001b[39m.\u001b[39;00m\u001b[39msql\u001b[39;00m \u001b[39mimport\u001b[39;00m text\n\u001b[1;32m      2\u001b[0m s \u001b[39m=\u001b[39m text(\u001b[39m\"\u001b[39m\u001b[39mselect students.name, students.lastname from students where students.name between :x and :y\u001b[39m\u001b[39m\"\u001b[39m)\n\u001b[0;32m----> 3\u001b[0m conn\u001b[39m.\u001b[39;49mexecute(s, x \u001b[39m=\u001b[39;49m \u001b[39m'\u001b[39;49m\u001b[39mA\u001b[39;49m\u001b[39m'\u001b[39;49m, y \u001b[39m=\u001b[39;49m \u001b[39m'\u001b[39;49m\u001b[39mL\u001b[39;49m\u001b[39m'\u001b[39;49m)\u001b[39m.\u001b[39mfetchall()\n",
      "\u001b[0;31mTypeError\u001b[0m: execute() got an unexpected keyword argument 'x'"
     ]
    }
   ],
   "source": [
    "from sqlalchemy.sql import text\n",
    "s = text(\"select students.name, students.lastname from students where students.name between :x and :y\")\n",
    "conn.execute(s, x = 'A', y = 'L').fetchall()"
   ]
  },
  {
   "cell_type": "code",
   "execution_count": 26,
   "metadata": {},
   "outputs": [
    {
     "name": "stdout",
     "output_type": "stream",
     "text": [
      "2023-06-19 05:10:06,061 INFO sqlalchemy.engine.Engine SELECT * FROM students WHERE students.name BETWEEN ? AND ?\n",
      "2023-06-19 05:10:06,062 INFO sqlalchemy.engine.Engine [cached since 5.975s ago] ('A', 'L')\n"
     ]
    }
   ],
   "source": [
    "from sqlalchemy import bindparam\n",
    "stmt = text(\"SELECT * FROM students WHERE students.name BETWEEN :x AND :y\")\n",
    "\n",
    "stmt = stmt.bindparams(\n",
    "   bindparam(\"x\", type_= String), \n",
    "   bindparam(\"y\", type_= String)\n",
    ")\n",
    "\n",
    "result = conn.execute(stmt, {\"x\": \"A\", \"y\": \"L\"})\n"
   ]
  },
  {
   "cell_type": "code",
   "execution_count": 27,
   "metadata": {},
   "outputs": [
    {
     "ename": "ArgumentError",
     "evalue": "Column expression, FROM clause, or other columns clause element expected, got [<sqlalchemy.sql.elements.TextClause object at 0x7fd84b0891c0>]. Did you mean to say select(<sqlalchemy.sql.elements.TextClause object at 0x7fd84b0891c0>)?",
     "output_type": "error",
     "traceback": [
      "\u001b[0;31m---------------------------------------------------------------------------\u001b[0m",
      "\u001b[0;31mArgumentError\u001b[0m                             Traceback (most recent call last)",
      "Cell \u001b[0;32mIn[27], line 7\u001b[0m\n\u001b[1;32m      1\u001b[0m \u001b[39m# The text() function also be produces fragments of SQL within a select() object that \u001b[39;00m\n\u001b[1;32m      2\u001b[0m \u001b[39m# accepts text() objects as an arguments. The “geometry” of the statement is provided by \u001b[39;00m\n\u001b[1;32m      3\u001b[0m \u001b[39m# select() construct , and the textual content by text() construct. We can build a statement \u001b[39;00m\n\u001b[1;32m      4\u001b[0m \u001b[39m# without the need to refer to any pre-established Table metadata. \u001b[39;00m\n\u001b[1;32m      6\u001b[0m \u001b[39mfrom\u001b[39;00m \u001b[39msqlalchemy\u001b[39;00m\u001b[39m.\u001b[39;00m\u001b[39msql\u001b[39;00m \u001b[39mimport\u001b[39;00m select\n\u001b[0;32m----> 7\u001b[0m s \u001b[39m=\u001b[39m select([text(\u001b[39m\"\u001b[39;49m\u001b[39mstudents.name, students.lastname from students\u001b[39;49m\u001b[39m\"\u001b[39;49m)])\u001b[39m.\u001b[39mwhere(text(\u001b[39m\"\u001b[39m\u001b[39mstudents.name between :x and :y\u001b[39m\u001b[39m\"\u001b[39m))\n\u001b[1;32m      8\u001b[0m conn\u001b[39m.\u001b[39mexecute(s, x \u001b[39m=\u001b[39m \u001b[39m'\u001b[39m\u001b[39mA\u001b[39m\u001b[39m'\u001b[39m, y \u001b[39m=\u001b[39m \u001b[39m'\u001b[39m\u001b[39mL\u001b[39m\u001b[39m'\u001b[39m)\u001b[39m.\u001b[39mfetchall()\n",
      "File \u001b[0;32m/workspace/study/code/repo/practice-orm/venv/lib/python3.8/site-packages/sqlalchemy/sql/_selectable_constructors.py:489\u001b[0m, in \u001b[0;36mselect\u001b[0;34m(*entities, **__kw)\u001b[0m\n\u001b[1;32m    487\u001b[0m \u001b[39mif\u001b[39;00m __kw:\n\u001b[1;32m    488\u001b[0m     \u001b[39mraise\u001b[39;00m _no_kw()\n\u001b[0;32m--> 489\u001b[0m \u001b[39mreturn\u001b[39;00m Select(\u001b[39m*\u001b[39;49mentities)\n",
      "File \u001b[0;32m/workspace/study/code/repo/practice-orm/venv/lib/python3.8/site-packages/sqlalchemy/sql/selectable.py:5130\u001b[0m, in \u001b[0;36mSelect.__init__\u001b[0;34m(self, *entities)\u001b[0m\n\u001b[1;32m   5123\u001b[0m \u001b[39mdef\u001b[39;00m \u001b[39m__init__\u001b[39m(\u001b[39mself\u001b[39m, \u001b[39m*\u001b[39mentities: _ColumnsClauseArgument[Any]):\n\u001b[1;32m   5124\u001b[0m \u001b[39m    \u001b[39m\u001b[39mr\u001b[39m\u001b[39m\"\"\"Construct a new :class:`_expression.Select`.\u001b[39;00m\n\u001b[1;32m   5125\u001b[0m \n\u001b[1;32m   5126\u001b[0m \u001b[39m    The public constructor for :class:`_expression.Select` is the\u001b[39;00m\n\u001b[1;32m   5127\u001b[0m \u001b[39m    :func:`_sql.select` function.\u001b[39;00m\n\u001b[1;32m   5128\u001b[0m \n\u001b[1;32m   5129\u001b[0m \u001b[39m    \"\"\"\u001b[39;00m\n\u001b[0;32m-> 5130\u001b[0m     \u001b[39mself\u001b[39m\u001b[39m.\u001b[39m_raw_columns \u001b[39m=\u001b[39m [\n\u001b[1;32m   5131\u001b[0m         coercions\u001b[39m.\u001b[39mexpect(\n\u001b[1;32m   5132\u001b[0m             roles\u001b[39m.\u001b[39mColumnsClauseRole, ent, apply_propagate_attrs\u001b[39m=\u001b[39m\u001b[39mself\u001b[39m\n\u001b[1;32m   5133\u001b[0m         )\n\u001b[1;32m   5134\u001b[0m         \u001b[39mfor\u001b[39;00m ent \u001b[39min\u001b[39;00m entities\n\u001b[1;32m   5135\u001b[0m     ]\n\u001b[1;32m   5137\u001b[0m     GenerativeSelect\u001b[39m.\u001b[39m\u001b[39m__init__\u001b[39m(\u001b[39mself\u001b[39m)\n",
      "File \u001b[0;32m/workspace/study/code/repo/practice-orm/venv/lib/python3.8/site-packages/sqlalchemy/sql/selectable.py:5131\u001b[0m, in \u001b[0;36m<listcomp>\u001b[0;34m(.0)\u001b[0m\n\u001b[1;32m   5123\u001b[0m \u001b[39mdef\u001b[39;00m \u001b[39m__init__\u001b[39m(\u001b[39mself\u001b[39m, \u001b[39m*\u001b[39mentities: _ColumnsClauseArgument[Any]):\n\u001b[1;32m   5124\u001b[0m \u001b[39m    \u001b[39m\u001b[39mr\u001b[39m\u001b[39m\"\"\"Construct a new :class:`_expression.Select`.\u001b[39;00m\n\u001b[1;32m   5125\u001b[0m \n\u001b[1;32m   5126\u001b[0m \u001b[39m    The public constructor for :class:`_expression.Select` is the\u001b[39;00m\n\u001b[1;32m   5127\u001b[0m \u001b[39m    :func:`_sql.select` function.\u001b[39;00m\n\u001b[1;32m   5128\u001b[0m \n\u001b[1;32m   5129\u001b[0m \u001b[39m    \"\"\"\u001b[39;00m\n\u001b[1;32m   5130\u001b[0m     \u001b[39mself\u001b[39m\u001b[39m.\u001b[39m_raw_columns \u001b[39m=\u001b[39m [\n\u001b[0;32m-> 5131\u001b[0m         coercions\u001b[39m.\u001b[39;49mexpect(\n\u001b[1;32m   5132\u001b[0m             roles\u001b[39m.\u001b[39;49mColumnsClauseRole, ent, apply_propagate_attrs\u001b[39m=\u001b[39;49m\u001b[39mself\u001b[39;49m\n\u001b[1;32m   5133\u001b[0m         )\n\u001b[1;32m   5134\u001b[0m         \u001b[39mfor\u001b[39;00m ent \u001b[39min\u001b[39;00m entities\n\u001b[1;32m   5135\u001b[0m     ]\n\u001b[1;32m   5137\u001b[0m     GenerativeSelect\u001b[39m.\u001b[39m\u001b[39m__init__\u001b[39m(\u001b[39mself\u001b[39m)\n",
      "File \u001b[0;32m/workspace/study/code/repo/practice-orm/venv/lib/python3.8/site-packages/sqlalchemy/sql/coercions.py:413\u001b[0m, in \u001b[0;36mexpect\u001b[0;34m(role, element, apply_propagate_attrs, argname, post_inspect, disable_inspection, **kw)\u001b[0m\n\u001b[1;32m    410\u001b[0m                 impl\u001b[39m.\u001b[39m_raise_for_expected(original_element, argname)\n\u001b[1;32m    412\u001b[0m     \u001b[39mif\u001b[39;00m resolved \u001b[39mis\u001b[39;00m \u001b[39mNone\u001b[39;00m:\n\u001b[0;32m--> 413\u001b[0m         resolved \u001b[39m=\u001b[39m impl\u001b[39m.\u001b[39;49m_literal_coercion(\n\u001b[1;32m    414\u001b[0m             element, argname\u001b[39m=\u001b[39;49margname, \u001b[39m*\u001b[39;49m\u001b[39m*\u001b[39;49mkw\n\u001b[1;32m    415\u001b[0m         )\n\u001b[1;32m    416\u001b[0m \u001b[39melse\u001b[39;00m:\n\u001b[1;32m    417\u001b[0m     resolved \u001b[39m=\u001b[39m element\n",
      "File \u001b[0;32m/workspace/study/code/repo/practice-orm/venv/lib/python3.8/site-packages/sqlalchemy/sql/coercions.py:651\u001b[0m, in \u001b[0;36m_CoerceLiterals._literal_coercion\u001b[0;34m(self, element, argname, **kw)\u001b[0m\n\u001b[1;32m    648\u001b[0m \u001b[39mif\u001b[39;00m \u001b[39mself\u001b[39m\u001b[39m.\u001b[39m_coerce_numerics \u001b[39mand\u001b[39;00m \u001b[39misinstance\u001b[39m(element, (numbers\u001b[39m.\u001b[39mNumber)):\n\u001b[1;32m    649\u001b[0m     \u001b[39mreturn\u001b[39;00m elements\u001b[39m.\u001b[39mColumnClause(\u001b[39mstr\u001b[39m(element), is_literal\u001b[39m=\u001b[39m\u001b[39mTrue\u001b[39;00m)\n\u001b[0;32m--> 651\u001b[0m \u001b[39mself\u001b[39;49m\u001b[39m.\u001b[39;49m_raise_for_expected(element, argname)\n",
      "File \u001b[0;32m/workspace/study/code/repo/practice-orm/venv/lib/python3.8/site-packages/sqlalchemy/sql/coercions.py:1139\u001b[0m, in \u001b[0;36mColumnsClauseImpl._raise_for_expected\u001b[0;34m(self, element, argname, resolved, advice, **kw)\u001b[0m\n\u001b[1;32m   1133\u001b[0m \u001b[39mif\u001b[39;00m \u001b[39mnot\u001b[39;00m advice \u001b[39mand\u001b[39;00m \u001b[39misinstance\u001b[39m(element, \u001b[39mlist\u001b[39m):\n\u001b[1;32m   1134\u001b[0m     advice \u001b[39m=\u001b[39m (\n\u001b[1;32m   1135\u001b[0m         \u001b[39mf\u001b[39m\u001b[39m\"\u001b[39m\u001b[39mDid you mean to say select(\u001b[39m\u001b[39m\"\u001b[39m\n\u001b[1;32m   1136\u001b[0m         \u001b[39mf\u001b[39m\u001b[39m\"\u001b[39m\u001b[39m{\u001b[39;00m\u001b[39m'\u001b[39m\u001b[39m, \u001b[39m\u001b[39m'\u001b[39m\u001b[39m.\u001b[39mjoin(\u001b[39mrepr\u001b[39m(e)\u001b[39m \u001b[39m\u001b[39mfor\u001b[39;00m\u001b[39m \u001b[39me\u001b[39m \u001b[39m\u001b[39min\u001b[39;00m\u001b[39m \u001b[39melement)\u001b[39m}\u001b[39;00m\u001b[39m)?\u001b[39m\u001b[39m\"\u001b[39m\n\u001b[1;32m   1137\u001b[0m     )\n\u001b[0;32m-> 1139\u001b[0m \u001b[39mreturn\u001b[39;00m \u001b[39msuper\u001b[39;49m()\u001b[39m.\u001b[39;49m_raise_for_expected(\n\u001b[1;32m   1140\u001b[0m     element, argname\u001b[39m=\u001b[39;49margname, resolved\u001b[39m=\u001b[39;49mresolved, advice\u001b[39m=\u001b[39;49madvice, \u001b[39m*\u001b[39;49m\u001b[39m*\u001b[39;49mkw\n\u001b[1;32m   1141\u001b[0m )\n",
      "File \u001b[0;32m/workspace/study/code/repo/practice-orm/venv/lib/python3.8/site-packages/sqlalchemy/sql/coercions.py:710\u001b[0m, in \u001b[0;36m_SelectIsNotFrom._raise_for_expected\u001b[0;34m(self, element, argname, resolved, advice, code, err, **kw)\u001b[0m\n\u001b[1;32m    707\u001b[0m \u001b[39melse\u001b[39;00m:\n\u001b[1;32m    708\u001b[0m     code \u001b[39m=\u001b[39m \u001b[39mNone\u001b[39;00m\n\u001b[0;32m--> 710\u001b[0m \u001b[39msuper\u001b[39;49m()\u001b[39m.\u001b[39;49m_raise_for_expected(\n\u001b[1;32m    711\u001b[0m     element,\n\u001b[1;32m    712\u001b[0m     argname\u001b[39m=\u001b[39;49margname,\n\u001b[1;32m    713\u001b[0m     resolved\u001b[39m=\u001b[39;49mresolved,\n\u001b[1;32m    714\u001b[0m     advice\u001b[39m=\u001b[39;49madvice,\n\u001b[1;32m    715\u001b[0m     code\u001b[39m=\u001b[39;49mcode,\n\u001b[1;32m    716\u001b[0m     err\u001b[39m=\u001b[39;49merr,\n\u001b[1;32m    717\u001b[0m     \u001b[39m*\u001b[39;49m\u001b[39m*\u001b[39;49mkw,\n\u001b[1;32m    718\u001b[0m )\n\u001b[1;32m    719\u001b[0m \u001b[39m# never reached\u001b[39;00m\n\u001b[1;32m    720\u001b[0m \u001b[39massert\u001b[39;00m \u001b[39mFalse\u001b[39;00m\n",
      "File \u001b[0;32m/workspace/study/code/repo/practice-orm/venv/lib/python3.8/site-packages/sqlalchemy/sql/coercions.py:535\u001b[0m, in \u001b[0;36mRoleImpl._raise_for_expected\u001b[0;34m(self, element, argname, resolved, advice, code, err, **kw)\u001b[0m\n\u001b[1;32m    532\u001b[0m \u001b[39mif\u001b[39;00m advice:\n\u001b[1;32m    533\u001b[0m     msg \u001b[39m+\u001b[39m\u001b[39m=\u001b[39m \u001b[39m\"\u001b[39m\u001b[39m \u001b[39m\u001b[39m\"\u001b[39m \u001b[39m+\u001b[39m advice\n\u001b[0;32m--> 535\u001b[0m \u001b[39mraise\u001b[39;00m exc\u001b[39m.\u001b[39mArgumentError(msg, code\u001b[39m=\u001b[39mcode) \u001b[39mfrom\u001b[39;00m \u001b[39merr\u001b[39;00m\n",
      "\u001b[0;31mArgumentError\u001b[0m: Column expression, FROM clause, or other columns clause element expected, got [<sqlalchemy.sql.elements.TextClause object at 0x7fd84b0891c0>]. Did you mean to say select(<sqlalchemy.sql.elements.TextClause object at 0x7fd84b0891c0>)?"
     ]
    }
   ],
   "source": [
    "# The text() function also be produces fragments of SQL within a select() object that \n",
    "# accepts text() objects as an arguments. The “geometry” of the statement is provided by \n",
    "# select() construct , and the textual content by text() construct. We can build a statement \n",
    "# without the need to refer to any pre-established Table metadata. \n",
    "\n",
    "from sqlalchemy.sql import select\n",
    "s = select([text(\"students.name, students.lastname from students\")]).where(text(\"students.name between :x and :y\"))\n",
    "conn.execute(s, x = 'A', y = 'L').fetchall()"
   ]
  },
  {
   "cell_type": "code",
   "execution_count": null,
   "metadata": {},
   "outputs": [],
   "source": []
  }
 ],
 "metadata": {
  "kernelspec": {
   "display_name": "venv",
   "language": "python",
   "name": "python3"
  },
  "language_info": {
   "codemirror_mode": {
    "name": "ipython",
    "version": 3
   },
   "file_extension": ".py",
   "mimetype": "text/x-python",
   "name": "python",
   "nbconvert_exporter": "python",
   "pygments_lexer": "ipython3",
   "version": "3.8.8"
  },
  "orig_nbformat": 4
 },
 "nbformat": 4,
 "nbformat_minor": 2
}
