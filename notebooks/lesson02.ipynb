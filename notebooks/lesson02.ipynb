{
 "cells": [
  {
   "cell_type": "code",
   "execution_count": 5,
   "metadata": {},
   "outputs": [],
   "source": [
    "from sqlalchemy import create_engine, URL\n",
    "from sqlalchemy.orm import sessionmaker"
   ]
  },
  {
   "cell_type": "code",
   "execution_count": 8,
   "metadata": {},
   "outputs": [],
   "source": [
    "url = URL.create(\n",
    "    drivername=\"postgresql+psycopg2\",  # driver name = postgresql + the library we are using (psycopg2)\n",
    "    username='testuser',\n",
    "    password='testpassword',\n",
    "    host='localhost',\n",
    "    database='postgres',\n",
    "    port=5234\n",
    ")\n",
    "\n",
    "engine = create_engine(url, echo=True)\n",
    "session_pool = sessionmaker(bind=engine)\n"
   ]
  },
  {
   "cell_type": "code",
   "execution_count": 14,
   "metadata": {},
   "outputs": [
    {
     "name": "stdout",
     "output_type": "stream",
     "text": [
      "2023-06-25 16:47:52,534 INFO sqlalchemy.engine.Engine BEGIN (implicit)\n",
      "2023-06-25 16:47:52,535 INFO sqlalchemy.engine.Engine \n",
      "        CREATE TABLE IF NOT EXISTS users (\n",
      "            telegram_id INTEGER PRIMARY KEY,\n",
      "            full_name VARCHAR(255),\n",
      "            username VARCHAR(255),\n",
      "            language_code VARCHAR(255),\n",
      "            created_at TIMESTAMP default now(),\n",
      "            referrer_id BIGINT,\n",
      "            FOREIGN KEY (referrer_id) \n",
      "                REFERENCES users(telegram_id)\n",
      "                ON DELETE SET NULL\n",
      "        );\n",
      "    \n",
      "2023-06-25 16:47:52,536 INFO sqlalchemy.engine.Engine [cached since 33.98s ago] {}\n",
      "2023-06-25 16:47:52,542 INFO sqlalchemy.engine.Engine COMMIT\n"
     ]
    }
   ],
   "source": [
    "from sqlalchemy import text\n",
    "with session_pool() as session:\n",
    "    results = session.execute(text(\"\"\"\n",
    "        CREATE TABLE IF NOT EXISTS users (\n",
    "            telegram_id INTEGER PRIMARY KEY,\n",
    "            full_name VARCHAR(255),\n",
    "            username VARCHAR(255),\n",
    "            language_code VARCHAR(255),\n",
    "            created_at TIMESTAMP default now(),\n",
    "            referrer_id BIGINT,\n",
    "            FOREIGN KEY (referrer_id) \n",
    "                REFERENCES users(telegram_id)\n",
    "                ON DELETE SET NULL\n",
    "        );\n",
    "    \"\"\"))\n",
    "    session.commit()"
   ]
  },
  {
   "cell_type": "code",
   "execution_count": 16,
   "metadata": {},
   "outputs": [
    {
     "name": "stdout",
     "output_type": "stream",
     "text": [
      "2023-06-25 16:49:39,875 INFO sqlalchemy.engine.Engine BEGIN (implicit)\n",
      "2023-06-25 16:49:39,877 INFO sqlalchemy.engine.Engine \n",
      "        INSERT INTO users (telegram_id, full_name, username, language_code)\n",
      "        VALUES (1, 'John Doe', 'johndoe', 'en');\n",
      "        \n",
      "        INSERT INTO users (telegram_id, full_name, username, language_code, referrer_id)\n",
      "        VALUES (2, 'Jane Doe', 'janedoe', 'en', 1);                    \n",
      "    \n",
      "2023-06-25 16:49:39,877 INFO sqlalchemy.engine.Engine [generated in 0.00062s] {}\n",
      "2023-06-25 16:49:39,879 INFO sqlalchemy.engine.Engine COMMIT\n"
     ]
    }
   ],
   "source": [
    "from sqlalchemy import text\n",
    "with session_pool() as session:\n",
    "    results = session.execute(text(\"\"\"\n",
    "        INSERT INTO users (telegram_id, full_name, username, language_code)\n",
    "        VALUES (1, 'John Doe', 'johndoe', 'en');\n",
    "        \n",
    "        INSERT INTO users (telegram_id, full_name, username, language_code, referrer_id)\n",
    "        VALUES (2, 'Jane Doe', 'janedoe', 'en', 1);                    \n",
    "    \"\"\"))\n",
    "    session.commit()"
   ]
  },
  {
   "cell_type": "code",
   "execution_count": 17,
   "metadata": {},
   "outputs": [
    {
     "name": "stdout",
     "output_type": "stream",
     "text": [
      "2023-06-25 16:49:41,368 INFO sqlalchemy.engine.Engine BEGIN (implicit)\n",
      "2023-06-25 16:49:41,369 INFO sqlalchemy.engine.Engine \n",
      "        SELECT * FROM users\n",
      "    \n",
      "2023-06-25 16:49:41,370 INFO sqlalchemy.engine.Engine [cached since 401.4s ago] {}\n",
      "(1, 'John Doe', 'johndoe', 'en', datetime.datetime(2023, 6, 25, 8, 49, 39, 878249), None)\n",
      "(2, 'Jane Doe', 'janedoe', 'en', datetime.datetime(2023, 6, 25, 8, 49, 39, 878249), 1)\n",
      "2023-06-25 16:49:41,371 INFO sqlalchemy.engine.Engine ROLLBACK\n"
     ]
    }
   ],
   "source": [
    "from sqlalchemy import text\n",
    "with session_pool() as session:\n",
    "    results = session.execute(text(\"\"\"\n",
    "        SELECT * FROM users\n",
    "    \"\"\"))\n",
    "    for row in results:\n",
    "        print(row)"
   ]
  },
  {
   "cell_type": "code",
   "execution_count": 21,
   "metadata": {},
   "outputs": [
    {
     "name": "stdout",
     "output_type": "stream",
     "text": [
      "2023-06-25 17:11:21,409 INFO sqlalchemy.engine.Engine BEGIN (implicit)\n",
      "2023-06-25 17:11:21,410 INFO sqlalchemy.engine.Engine \n",
      "        SELECT full_name, username FROM users WHERE telegram_id = %(telegram_id)s\n",
      "    \n",
      "2023-06-25 17:11:21,410 INFO sqlalchemy.engine.Engine [cached since 31.9s ago] {'telegram_id': 123}\n",
      "2023-06-25 17:11:21,412 INFO sqlalchemy.engine.Engine COMMIT\n"
     ]
    }
   ],
   "source": [
    "from sqlalchemy import text\n",
    "with session_pool() as session:\n",
    "    results = session.execute(text(f\"\"\"\n",
    "        SELECT full_name, username FROM users WHERE telegram_id = :telegram_id\n",
    "    \"\"\").params(telegram_id=123))\n",
    "    for row in results:\n",
    "        print(row)\n",
    "    session.commit()"
   ]
  },
  {
   "cell_type": "code",
   "execution_count": null,
   "metadata": {},
   "outputs": [],
   "source": []
  }
 ],
 "metadata": {
  "kernelspec": {
   "display_name": "venv",
   "language": "python",
   "name": "python3"
  },
  "language_info": {
   "codemirror_mode": {
    "name": "ipython",
    "version": 3
   },
   "file_extension": ".py",
   "mimetype": "text/x-python",
   "name": "python",
   "nbconvert_exporter": "python",
   "pygments_lexer": "ipython3",
   "version": "3.8.8"
  },
  "orig_nbformat": 4
 },
 "nbformat": 4,
 "nbformat_minor": 2
}
